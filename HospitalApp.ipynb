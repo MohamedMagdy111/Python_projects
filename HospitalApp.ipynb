{
 "cells": [
  {
   "cell_type": "code",
   "execution_count": 9,
   "id": "112327d6-a20b-4ccb-bf34-cf80dcde2f84",
   "metadata": {},
   "outputs": [],
   "source": [
    "import sqlite3\n",
    "\n",
    "dp = sqlite3.connect(\"hospital_data.dp\")\n",
    "cr = dp.cursor()\n",
    "cr.execute(\"create table if not exists doctor(name text,age integer,gender text,id integer)\")\n",
    "cr.execute(\"create table if not exists nurse(name text,age integer,gender text,id integer)\")\n",
    "cr.execute(\"create table if not exists patient(name text,age integer,gender text,id integer)\")\n",
    "\n",
    "class Human:\n",
    "    def __init__(self,name,age,gender,id):\n",
    "        self.name=name\n",
    "        self.age=age\n",
    "        self.gender=gender\n",
    "        self.id=id\n",
    "\n",
    "class Doctor(Human):\n",
    "    def __init__(self,name,age,gender,id):\n",
    "        super().__init__(name, age, gender, id)\n",
    "        cr.execute(f\"insert into doctor (name,age,gender,id) values('{self.name}', '{self.age}', '{self.gender}', '{self.id}')\")\n",
    "\n",
    "class Nurse(Human):\n",
    "    def __init__(self, name, age, gender, id):\n",
    "        super().__init__(name, age, gender, id)\n",
    "        cr.execute(\"insert into nurse values (?, ?, ?, ?)\", (self.name, self.age, self.gender, self.id))\n",
    "\n",
    "class Patient(Human):\n",
    "    def __init__(self, name, age, gender, id):\n",
    "        super().__init__(name, age, gender, id)\n",
    "        cr.execute(\"insert into patient values (?, ?, ?, ?)\", (self.name, self.age, self.gender, self.id))\n",
    "\n",
    "def commit_close():\n",
    "    dp.commit()\n",
    "    dp.close()\n",
    "\n",
    "# Creating instances of Doctor, Nurse, and Patient and inserting data into database\n",
    "d1 = Doctor(\"Ahmed\", 33, \"male\", 2000)\n",
    "d2 = Doctor(\"Mohamed\", 38, \"male\", 2001)\n",
    "d3 = Doctor(\"Ali\", 32, \"male\", 2002)\n",
    "d4 = Doctor(\"Rawan\", 28, \"female\", 2003)\n",
    "d4 = Doctor(\"Adel\", 45, \"male\", 2004)\n",
    "\n",
    "n1 = Nurse(\"ashraf\", 34, \"male\", 3000)\n",
    "n2 = Nurse(\"Samir\", 29, \"male\", 3001)\n",
    "n3 = Nurse(\"Soha\", 39, \"female\", 3002)\n",
    "n4 = Nurse(\"Amira\", 31, \"female\", 3003)\n",
    "\n",
    "p1 = Patient(\"Essam\", 22, \"male\", 5000)\n",
    "p2 = Patient(\"Rehab\", 18, \"female\", 5001)\n",
    "p3 = Patient(\"khamis\", 50, \"male\", 5002)\n",
    "p4 = Patient(\"gomaa\", 62, \"male\", 5003)\n",
    "\n",
    "commit_close()"
   ]
  },
  {
   "cell_type": "code",
   "execution_count": null,
   "id": "902b2513-19a6-45ba-8992-dfdfbedf5356",
   "metadata": {},
   "outputs": [],
   "source": []
  }
 ],
 "metadata": {
  "kernelspec": {
   "display_name": "Python 3 (ipykernel)",
   "language": "python",
   "name": "python3"
  },
  "language_info": {
   "codemirror_mode": {
    "name": "ipython",
    "version": 3
   },
   "file_extension": ".py",
   "mimetype": "text/x-python",
   "name": "python",
   "nbconvert_exporter": "python",
   "pygments_lexer": "ipython3",
   "version": "3.11.7"
  }
 },
 "nbformat": 4,
 "nbformat_minor": 5
}
