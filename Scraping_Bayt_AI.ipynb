{
 "cells": [
  {
   "cell_type": "code",
   "execution_count": null,
   "id": "dbbb588f-d497-440c-94fc-8d9f6344a339",
   "metadata": {},
   "outputs": [],
   "source": [
    "from bs4 import BeautifulSoup\n",
    "import requests"
   ]
  },
  {
   "cell_type": "code",
   "execution_count": null,
   "id": "2777e6ce-1a5a-450d-b5a9-9cbc06c7e784",
   "metadata": {},
   "outputs": [],
   "source": [
    "site = requests.get(\"https://www.bayt.com/en/egypt/jobs/Ai%20Engineer-jobs/\")\n",
    "site"
   ]
  },
  {
   "cell_type": "code",
   "execution_count": null,
   "id": "d6260248-f868-4b3c-8528-9209491354b7",
   "metadata": {},
   "outputs": [],
   "source": [
    "website=requests.get(\"https://www.bayt.com/en/egypt/jobs/Ai%20Engineer-jobs/\").text\n",
    "website"
   ]
  },
  {
   "cell_type": "code",
   "execution_count": null,
   "id": "f84aee48-d0f4-4f39-bb66-a4c334f652e4",
   "metadata": {},
   "outputs": [],
   "source": [
    "website=BeautifulSoup(website,\"lxml\")\n",
    "website"
   ]
  },
  {
   "cell_type": "code",
   "execution_count": null,
   "id": "383edfd1-5726-4a61-9fa8-0ef153435abd",
   "metadata": {},
   "outputs": [],
   "source": [
    "job = website.find(\"div\",class_=\"p20r u-stretch\")\n",
    "job"
   ]
  },
  {
   "cell_type": "code",
   "execution_count": null,
   "id": "0bfd65f7-b42f-4eb4-a191-a1efb67d8769",
   "metadata": {},
   "outputs": [],
   "source": [
    "jobname=job.find(\"h2\",class_=\"jb-title m0 t-large m20r p40r t-nowrap\").text\n",
    "jobname"
   ]
  },
  {
   "cell_type": "code",
   "execution_count": null,
   "id": "3df71036-befe-49ef-b518-98aee7b8f322",
   "metadata": {},
   "outputs": [],
   "source": [
    "jobcompany=job.find(\"b\",class_=\"jb-company t-nowrap\").text\n",
    "jobcompany"
   ]
  },
  {
   "cell_type": "code",
   "execution_count": null,
   "id": "8e85531d-47ae-4bf6-8358-7fa1154873c4",
   "metadata": {},
   "outputs": [],
   "source": [
    "joblocation=job.find(\"span\",class_=\"jb-loc t-mute t-nowrap u-block\").text\n",
    "joblocation"
   ]
  },
  {
   "cell_type": "code",
   "execution_count": null,
   "id": "c82aba9b-7315-4692-ac5a-ffa307682cb7",
   "metadata": {},
   "outputs": [],
   "source": [
    "jobs = website.find_all(\"div\",class_=\"p20r u-stretch\")\n",
    "for job in jobs:\n",
    "    jobname=job.find(\"h2\",class_=\"jb-title m0 t-large m20r p40r t-nowrap\").text\n",
    "    jobcompany=job.find(\"b\",class_=\"jb-company t-nowrap\").text\n",
    "    joblocation=job.find(\"span\",class_=\"jb-loc t-mute t-nowrap u-block\").text\n",
    "    print(jobname,jobcompany,joblocation)"
   ]
  },
  {
   "cell_type": "code",
   "execution_count": null,
   "id": "f4bdd0da-3110-4613-9041-e024e6f2a2d2",
   "metadata": {},
   "outputs": [],
   "source": [
    "import csv"
   ]
  },
  {
   "cell_type": "code",
   "execution_count": null,
   "id": "0c8b5535-b165-4b70-abee-4f4f4970a822",
   "metadata": {},
   "outputs": [],
   "source": [
    "csvfile= open(\"AIjobs_Egypt.csv\",\"w\", encoding='utf-8')\n",
    "writer= csv.writer(csvfile)"
   ]
  },
  {
   "cell_type": "code",
   "execution_count": null,
   "id": "0fb60003-53c7-4fd7-b339-f1ced9cb7932",
   "metadata": {},
   "outputs": [],
   "source": [
    "writer.writerow([\"job_name\",\"company_name\",\"company_location\"])"
   ]
  },
  {
   "cell_type": "code",
   "execution_count": null,
   "id": "795e8f98-c34a-45c4-81d9-2d03f660d99e",
   "metadata": {},
   "outputs": [],
   "source": []
  }
 ],
 "metadata": {
  "kernelspec": {
   "display_name": "Python 3 (ipykernel)",
   "language": "python",
   "name": "python3"
  },
  "language_info": {
   "codemirror_mode": {
    "name": "ipython",
    "version": 3
   },
   "file_extension": ".py",
   "mimetype": "text/x-python",
   "name": "python",
   "nbconvert_exporter": "python",
   "pygments_lexer": "ipython3",
   "version": "3.11.7"
  }
 },
 "nbformat": 4,
 "nbformat_minor": 5
}
